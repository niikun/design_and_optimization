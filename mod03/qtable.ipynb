{
 "cells": [
  {
   "cell_type": "code",
   "execution_count": 20,
   "metadata": {},
   "outputs": [],
   "source": [
    "import numpy as np\n",
    "\n",
    "# グリッドの定義\n",
    "grid = np.zeros((5, 5))\n",
    "grid[4, 4] = 1  # ゴール位置\n",
    "grid[2, 2] = -1  # 障害物\n",
    "\n",
    "q_table = np.zeros((5,5,4))"
   ]
  },
  {
   "cell_type": "code",
   "execution_count": 21,
   "metadata": {},
   "outputs": [
    {
     "data": {
      "text/plain": [
       "array([[ 0.,  0.,  0.,  0.,  0.],\n",
       "       [ 0.,  0.,  0.,  0.,  0.],\n",
       "       [ 0.,  0., -1.,  0.,  0.],\n",
       "       [ 0.,  0.,  0.,  0.,  0.],\n",
       "       [ 0.,  0.,  0.,  0.,  1.]])"
      ]
     },
     "execution_count": 21,
     "metadata": {},
     "output_type": "execute_result"
    }
   ],
   "source": [
    "grid"
   ]
  },
  {
   "cell_type": "code",
   "execution_count": 22,
   "metadata": {},
   "outputs": [
    {
     "name": "stdout",
     "output_type": "stream",
     "text": [
      "[[[0. 0. 0. 0.]\n",
      "  [0. 0. 0. 0.]\n",
      "  [0. 0. 0. 0.]\n",
      "  [0. 0. 0. 0.]\n",
      "  [0. 0. 0. 0.]]\n",
      "\n",
      " [[0. 0. 0. 0.]\n",
      "  [0. 0. 0. 0.]\n",
      "  [0. 0. 0. 0.]\n",
      "  [0. 0. 0. 0.]\n",
      "  [0. 0. 0. 0.]]\n",
      "\n",
      " [[0. 0. 0. 0.]\n",
      "  [0. 0. 0. 0.]\n",
      "  [0. 0. 0. 0.]\n",
      "  [0. 0. 0. 0.]\n",
      "  [0. 0. 0. 0.]]\n",
      "\n",
      " [[0. 0. 0. 0.]\n",
      "  [0. 0. 0. 0.]\n",
      "  [0. 0. 0. 0.]\n",
      "  [0. 0. 0. 0.]\n",
      "  [0. 0. 0. 0.]]\n",
      "\n",
      " [[0. 0. 0. 0.]\n",
      "  [0. 0. 0. 0.]\n",
      "  [0. 0. 0. 0.]\n",
      "  [0. 0. 0. 0.]\n",
      "  [0. 0. 0. 0.]]]\n",
      "(5, 5, 4)\n"
     ]
    },
    {
     "data": {
      "text/plain": [
       "(None, None)"
      ]
     },
     "execution_count": 22,
     "metadata": {},
     "output_type": "execute_result"
    }
   ],
   "source": [
    "print(q_table), print(q_table.shape)"
   ]
  },
  {
   "cell_type": "code",
   "execution_count": 23,
   "metadata": {},
   "outputs": [],
   "source": [
    "alpha = 0.1\n",
    "gamma = 0.9\n",
    "epsilon = 0.2\n",
    "\n",
    "actions ={\n",
    "    0: (-1, 0),  # up\n",
    "    1: (1, 0),  # down\n",
    "    2: (0, -1),  # left\n",
    "    3: (0, 1)  # right\n",
    "}"
   ]
  },
  {
   "attachments": {
    "image.png": {
     "image/png": "[encoded data removed]"
    }
   },
   "cell_type": "markdown",
   "metadata": {},
   "source": [
    "![image.png](attachment:image.png)"
   ]
  },
  {
   "cell_type": "code",
   "execution_count": 24,
   "metadata": {},
   "outputs": [],
   "source": [
    "def update_q_table(state, action, reward, next_state):\n",
    "    global q_table\n",
    "    old_value = q_table[state][action]\n",
    "    next_max = np.max(q_table[next_state])\n",
    "    new_value = q_table[state][action] = old_value + alpha * (reward + gamma * next_max - old_value)\n",
    "    q_table[state][action] = new_value\n",
    "\n",
    "def apply_action(state,action):\n",
    "    next_state = (state[0] + actions[action][0], state[1] + actions[action][1])\n",
    "    if next_state[0] < 0 or next_state[0] >= 5 or next_state[1] < 0 or next_state[1] >= 5:\n",
    "        next_state = state\n",
    "    return next_state"
   ]
  },
  {
   "cell_type": "code",
   "execution_count": 25,
   "metadata": {},
   "outputs": [],
   "source": [
    "for episode in range(10000):\n",
    "    state = (0,0)\n",
    "    for step in range(100):\n",
    "        if np.random.rand() < epsilon:\n",
    "            action = np.random.randint(0, 4)\n",
    "        else:\n",
    "            action = np.argmax(q_table[state])\n",
    "\n",
    "        next_state = apply_action(state, action)\n",
    "        reward = grid[next_state]\n",
    "\n",
    "        update_q_table(state,action,reward,next_state)\n",
    "        state = next_state\n",
    "        if reward == 1:\n",
    "            break\n",
    "               \n",
    "        "
   ]
  },
  {
   "cell_type": "code",
   "execution_count": 29,
   "metadata": {},
   "outputs": [
    {
     "name": "stdout",
     "output_type": "stream",
     "text": [
      "State: (0, 0)\n",
      "[4.30837127 4.78707919 4.30837127 4.78707919]\n",
      "State: (0, 1)\n",
      "[4.78091316 5.31897687 4.30837127 5.30096669]\n",
      "State: (0, 2)\n",
      "[5.1078078  5.9099743  4.45770175 5.81562886]\n",
      "State: (0, 3)\n",
      "[5.8214334  6.56663812 5.27615851 5.09910617]\n",
      "State: (0, 4)\n",
      "[2.97870659 3.6357633  5.90894477 1.00975347]\n",
      "State: (1, 0)\n",
      "[4.30837127 4.30837127 4.78707919 5.31897687]\n",
      "State: (1, 1)\n",
      "[4.78707919 4.78707919 4.78707919 5.9099743 ]\n",
      "State: (1, 2)\n",
      "[ 5.31897687 -3.43336188  5.31897687  6.56663812]\n",
      "State: (1, 3)\n",
      "[5.9099743  7.29626457 5.9099743  7.29626457]\n",
      "State: (1, 4)\n",
      "[5.26212685 8.10696064 6.56663812 7.24600928]\n",
      "State: (2, 0)\n",
      "[4.78707919 3.18287074 4.09532407 4.48896471]\n",
      "State: (2, 1)\n",
      "[ 5.31897687  4.236304    4.2112317  -3.45750738]\n",
      "State: (2, 2)\n",
      "[5.8953962  7.25602358 4.78295011 7.29626457]\n",
      "State: (2, 3)\n",
      "[ 6.56663812  8.10696064 -3.43336188  8.10696064]\n",
      "State: (2, 4)\n",
      "[7.29626457 9.00773404 7.29626457 8.10696064]\n",
      "State: (3, 0)\n",
      "[ 8.15390056e-01  4.43413684e-02 -2.23051045e-03  4.08858654e+00]\n",
      "State: (3, 1)\n",
      "[4.78660491 0.42629027 0.71630648 3.80618815]\n",
      "State: (3, 2)\n",
      "[-2.86012053  2.98813452  3.11730835  8.10696064]\n",
      "State: (3, 3)\n",
      "[7.29626457 9.00773404 7.29626457 9.00773404]\n",
      "State: (3, 4)\n",
      "[ 8.10696064 10.00859338  8.10696064  9.00773404]\n",
      "State: (4, 0)\n",
      "[-8.25846824e-03  2.66393439e-02  2.71635697e-04  5.22612787e-01]\n",
      "State: (4, 1)\n",
      "[2.42659732 0.04019646 0.02536573 0.49256578]\n",
      "State: (4, 2)\n",
      "[ 6.19921096e+00 -3.22068022e-03  7.39271972e-02  8.94671449e-01]\n",
      "State: (4, 3)\n",
      "[ 6.43722752  7.01283216  1.65817231 10.00859338]\n",
      "State: (4, 4)\n",
      "[-0.00100646  0.0095482  -0.0077566   0.00395081]\n",
      "↓ ↓ ↓ ↓ ←\n",
      "→ → → ↓ ↓\n",
      "↑ ↑ → ↓ ↓\n",
      "→ ↑ → → ↓\n",
      "→ ↑ ↑ → ↓\n"
     ]
    }
   ],
   "source": [
    "# 行動の矢印表現\n",
    "action_presentation = [\"↑\", \"↓\", \"←\", \"→\"]\n",
    "\n",
    "# アクショングリッドの初期化\n",
    "action_grid = [[\"\" for _ in range(5)] for _ in range(5)]\n",
    "\n",
    "for i in range(5):\n",
    "    for j in range(5):\n",
    "        state = (i, j)\n",
    "        print(f\"State: ({i}, {j})\")\n",
    "        print(q_table[i, j])  # 状態のQ値を表示\n",
    "\n",
    "        if grid[i, j] == 1:  # ゴール\n",
    "            action_grid[i][j] = \"G\"\n",
    "        elif grid[i, j] == -1:  # 障害物\n",
    "            action_grid[i][j] = \"X\"\n",
    "        else:\n",
    "            action = np.argmax(q_table[i, j])  # 最大のQ値を持つ行動を取得\n",
    "            action_grid[i][j] = action_presentation[action]\n",
    "\n",
    "# アクショングリッドの表示\n",
    "for row in action_grid:\n",
    "    print(\" \".join(row))\n",
    "\n"
   ]
  },
  {
   "cell_type": "code",
   "execution_count": 28,
   "metadata": {},
   "outputs": [],
   "source": [
    "# 学習パラメータ\n",
    "alpha = 0.1\n",
    "gamma = 0.9\n",
    "epsilon = 0.2\n",
    "\n",
    "# 行動の定義\n",
    "actions = {\n",
    "    0: (-1, 0),  # up\n",
    "    1: (1, 0),   # down\n",
    "    2: (0, -1),  # left\n",
    "    3: (0, 1)    # right\n",
    "}\n",
    "\n",
    "# 報酬の設定\n",
    "grid = np.zeros((5, 5))\n",
    "grid[4, 4] = 10  # ゴールの報酬\n",
    "grid[2, 2] = -10  # 障害物のペナルティ\n",
    "\n",
    "# Qテーブルの初期化（ランダム初期化）\n",
    "q_table = np.random.uniform(-0.01, 0.01, (5, 5, 4))\n",
    "\n",
    "def update_q_table(state, action, reward, next_state):\n",
    "    \"\"\"Q値の更新\"\"\"\n",
    "    global q_table\n",
    "    old_value = q_table[state[0], state[1], action]\n",
    "    next_max = np.max(q_table[next_state[0], next_state[1]])\n",
    "    q_table[state[0], state[1], action] = old_value + alpha * (reward + gamma * next_max - old_value)\n",
    "\n",
    "def apply_action(state, action, actions):\n",
    "    \"\"\"行動を適用して次の状態を返す\"\"\"\n",
    "    next_state = (state[0] + actions[action][0], state[1] + actions[action][1])\n",
    "    if next_state[0] < 0 or next_state[0] >= 5 or next_state[1] < 0 or next_state[1] >= 5:\n",
    "        next_state = state  # 境界外なら元の状態を維持\n",
    "    return next_state\n",
    "\n",
    "# エージェントの学習ループ\n",
    "for episode in range(10000):  # エピソード数を増加\n",
    "    state = (0, 0)  # 開始状態\n",
    "    while state != (4, 4):  # ゴールに到達するまでループ\n",
    "        if np.random.rand() < epsilon:  # ランダム行動（探索）\n",
    "            action = np.random.choice(list(actions.keys()))\n",
    "        else:  # 最大Q値に基づく行動（活用）\n",
    "            action = np.argmax(q_table[state[0], state[1]])\n",
    "\n",
    "        next_state = apply_action(state, action, actions)\n",
    "        reward = grid[next_state[0], next_state[1]]\n",
    "        update_q_table(state, action, reward, next_state)\n",
    "        state = next_state\n"
   ]
  }
 ],
 "metadata": {
  "kernelspec": {
   "display_name": ".venv",
   "language": "python",
   "name": "python3"
  },
  "language_info": {
   "codemirror_mode": {
    "name": "ipython",
    "version": 3
   },
   "file_extension": ".py",
   "mimetype": "text/x-python",
   "name": "python",
   "nbconvert_exporter": "python",
   "pygments_lexer": "ipython3",
   "version": "3.12.1"
  }
 },
 "nbformat": 4,
 "nbformat_minor": 2
}
